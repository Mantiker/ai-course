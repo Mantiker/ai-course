{
 "cells": [
  {
   "cell_type": "markdown",
   "metadata": {},
   "source": [
    "# AI Ethics. Practical Task\n",
    "\n",
    "## AI Risks Identification Tool\n",
    "\n",
    "Let's create an interactive and structured *AI Risks Identification Tool* that allows users to categorize the identified risks and provides a summary of the risks under each category. We'll use dictionaries and lists to organize the data.\n",
    "\n",
    "Below are the descriptions of the functions which will be used in the AI Risks Identification Tool:\n",
    "\n",
    "`get_risks_and_categories` - This function asks users to input the appropriate category of the potential risks associated with the usage of AI in everyday life. It prompts the user to enter risks and their corresponding categories iteratively until all the elements from `risks_list` will be passed. The risks and categories (entered by the user) are stored in a list of lists, where each category is 0 element of inner list, and the corresponding risks is stored as a 1 element of inner list (eg. `[[category0, risk0], [category1, risk1]], ...`).\n",
    "\n",
    "- Parameters: This function takes `risks_list` parameter.\n",
    "- Returns: This function returns `risks_categories` - a list of lists  containing the risks and categories.\n",
    "\n",
    "`identify_risks()` - This function allows users to identify and categorize potential risks associated with the usage of AI in everyday life. The risks and categories are stored in a dictionary, where each category is a key, and the corresponding risks are stored in a list under that key.\n",
    "\n",
    "- Parameters: This function takes `risks_categories` parameter.\n",
    "- Returns: This function returns a dictionary containing the categorized risks. The keys of the dictionary are the categories, and the values are lists of risks associated with each category.\n",
    "\n",
    "`display_risks_summary(risks)` - This function displays a summary of the identified AI risks under each category. It takes the categorized risks dictionary as input and prints the risks in a user-friendly format.\n",
    "\n",
    "- Parameters: `risks (dict)` - A dictionary containing categorized risks. The keys are the categories, and the values are lists of risks associated with each category.\n",
    "- Returns: This function does not return any value. It simply prints the summary of identified AI risks.\n",
    "\n",
    "The `identify_risks()` function organizes the entered risks into a dictionary to keep track of the different risk categories. The `display_risks_summary()` function then takes this dictionary as input and presents a clear summary of the identified AI risks under each category.\n",
    "\n",
    "These functions enable users to interactively explore and categorize AI risks, making it easier to comprehend the various challenges and concerns associated with the use of AI in everyday life.\n"
   ]
  },
  {
   "cell_type": "markdown",
   "metadata": {},
   "source": [
    "You may use these sample data to test your code\n",
    "\n",
    "```\n",
    "Privacy concerns: AI-powered devices may collect personal data, raising concerns about how this data is stored and used.\n",
    "Category: Privacy\n",
    "\n",
    "Security vulnerabilities: AI systems could be susceptible to cyberattacks, leading to unauthorized access to personal information.\n",
    "Category: Security\n",
    "\n",
    "Bias in AI algorithms: AI algorithms might inadvertently perpetuate biases present in the data they are trained on, leading to unfair or discriminatory outcomes.\n",
    "Category: Fairness\n",
    "\n",
    "Bias in AI algorithms may cause biased loan approvals for certain demographic groups.\n",
    "Category: Fairness\n",
    "\n",
    "AI system malfunctioning may result in incorrect medical diagnoses.\n",
    "Category: Safety\n",
    "\n",
    "AI-driven job automation may lead to unemployment and job displacement.\n",
    "Category: Social Impact\n",
    "```\n"
   ]
  },
  {
   "cell_type": "code",
   "execution_count": 2,
   "metadata": {
    "vscode": {
     "languageId": "plaintext"
    }
   },
   "outputs": [
    {
     "name": "stdout",
     "output_type": "stream",
     "text": [
      "Collecting git+https://github.com/mehalyna/cooltest.git\n",
      "  Cloning https://github.com/mehalyna/cooltest.git to /tmp/pip-req-build-ubicgewv\n",
      "  Running command git clone --filter=blob:none --quiet https://github.com/mehalyna/cooltest.git /tmp/pip-req-build-ubicgewv\n",
      "  Resolved https://github.com/mehalyna/cooltest.git to commit 630c96f2d3300782279879d5d13e6c1aaabf3c75\n",
      "  Installing build dependencies ... \u001b[?25ldone\n",
      "\u001b[?25h  Getting requirements to build wheel ... \u001b[?25ldone\n",
      "\u001b[?25h  Installing backend dependencies ... \u001b[?25ldone\n",
      "\u001b[?25h  Preparing metadata (pyproject.toml) ... \u001b[?25ldone\n",
      "\u001b[?25hRequirement already satisfied: numpy>=1.15 in /home/m/Projects/python/ai-course/practice/venv/lib/python3.11/site-packages (from cooltest==26.22) (2.2.5)\n",
      "\n",
      "\u001b[1m[\u001b[0m\u001b[34;49mnotice\u001b[0m\u001b[1;39;49m]\u001b[0m\u001b[39;49m A new release of pip is available: \u001b[0m\u001b[31;49m24.0\u001b[0m\u001b[39;49m -> \u001b[0m\u001b[32;49m25.1.1\u001b[0m\n",
      "\u001b[1m[\u001b[0m\u001b[34;49mnotice\u001b[0m\u001b[1;39;49m]\u001b[0m\u001b[39;49m To update, run: \u001b[0m\u001b[32;49mpip install --upgrade pip\u001b[0m\n",
      "Note: you may need to restart the kernel to use updated packages.\n"
     ]
    }
   ],
   "source": [
    "pip install git+https://github.com/mehalyna/cooltest.git"
   ]
  },
  {
   "cell_type": "code",
   "execution_count": 3,
   "metadata": {
    "vscode": {
     "languageId": "plaintext"
    }
   },
   "outputs": [
    {
     "name": "stdout",
     "output_type": "stream",
     "text": [
      "Pass\n"
     ]
    }
   ],
   "source": [
    "from cooltest.test_cool_4 import *"
   ]
  },
  {
   "cell_type": "code",
   "execution_count": 9,
   "metadata": {
    "vscode": {
     "languageId": "plaintext"
    }
   },
   "outputs": [
    {
     "name": "stdout",
     "output_type": "stream",
     "text": [
      "Risk Task Passed\n",
      "\n",
      "Welcome to the AI Risks Identification Tool!\n",
      "Enter the category of each risk:\n",
      "\n",
      "Privacy concerns: AI-powered devices may collect personal data, raising concerns about how this data is stored and used.\n"
     ]
    },
    {
     "name": "stdin",
     "output_type": "stream",
     "text": [
      "Category: A\n"
     ]
    },
    {
     "name": "stdout",
     "output_type": "stream",
     "text": [
      "\n",
      "Security vulnerabilities: AI systems could be susceptible to cyberattacks, leading to unauthorized access to personal information.\n"
     ]
    },
    {
     "name": "stdin",
     "output_type": "stream",
     "text": [
      "Category: A\n"
     ]
    },
    {
     "name": "stdout",
     "output_type": "stream",
     "text": [
      "\n",
      "Bias in AI algorithms: AI algorithms might inadvertently perpetuate biases present in the data they are trained on, leading to unfair or discriminatory outcomes.\n"
     ]
    },
    {
     "name": "stdin",
     "output_type": "stream",
     "text": [
      "Category: B\n"
     ]
    },
    {
     "name": "stdout",
     "output_type": "stream",
     "text": [
      "\n",
      "AI Risks Summary:\n",
      "\n",
      "Categiry: A\n",
      "\tPrivacy concerns: AI-powered devices may collect personal data, raising concerns about how this data is stored and used.\n",
      "\tSecurity vulnerabilities: AI systems could be susceptible to cyberattacks, leading to unauthorized access to personal information.\n",
      "\n",
      "\n",
      "Categiry: B\n",
      "\tBias in AI algorithms: AI algorithms might inadvertently perpetuate biases present in the data they are trained on, leading to unfair or discriminatory outcomes.\n",
      "\n",
      "\n"
     ]
    }
   ],
   "source": [
    "risks_list = [\n",
    "        \"Privacy concerns: AI-powered devices may collect personal data, raising concerns about how this data is stored and used.\",\n",
    "        \"Security vulnerabilities: AI systems could be susceptible to cyberattacks, leading to unauthorized access to personal information.\",\n",
    "        \"Bias in AI algorithms: AI algorithms might inadvertently perpetuate biases present in the data they are trained on, leading to unfair or discriminatory outcomes.\",\n",
    "        #you may add more AI Risks to this list\n",
    "    ]\n",
    "\n",
    "\n",
    "def get_risks_and_categories(risks_list):\n",
    "    \"\"\"\n",
    "    Identify and categorize potential risks of using AI in everyday life.\n",
    "\n",
    "    Parameters:\n",
    "        risks_list (list): A list of potential risks and categories associated with AI usage.\n",
    "\n",
    "    Returns:\n",
    "        list: A list containing categorized risks.\n",
    "    \"\"\"\n",
    "\n",
    "    print(\"Welcome to the AI Risks Identification Tool!\")\n",
    "    print(\"Enter the category of each risk:\")\n",
    "\n",
    "    result = []\n",
    "    for s in risks_list:\n",
    "        print(f\"\\n{s}\")\n",
    "        category = input(\"Category:\")\n",
    "        result.append([category, s])\n",
    "\n",
    "    return result\n",
    "\n",
    "@test_identify_risks\n",
    "def identify_risks(risks_categories):\n",
    "    \"\"\"\n",
    "    Identify and categorize potential risks of using AI in everyday life.\n",
    "\n",
    "    Parameters:\n",
    "        risks_categories (list): A list of potential risks and categories associated with AI usage.\n",
    "\n",
    "    Returns:\n",
    "        dict: A dictionary containing categorized risks.\n",
    "    \"\"\"\n",
    "    result = {}\n",
    "    for row in risks_categories:\n",
    "        if row[0] in result:\n",
    "            result[row[0]].append(row[1])\n",
    "        else:\n",
    "            result[row[0]] = [row[1]]\n",
    "\n",
    "    return result\n",
    "\n",
    "\n",
    "def display_risks_summary(risks):\n",
    "    \"\"\"\n",
    "    Display a summary of identified risks under each category.\n",
    "\n",
    "    Parameters:\n",
    "        risks (dict): A dictionary containing categorized risks.\n",
    "    \"\"\"\n",
    "    print(\"\\nAI Risks Summary:\\n\")\n",
    "    \n",
    "    for cat, items in risks.items():\n",
    "        print(f\"Categiry: {cat}\")\n",
    "        for s in items:\n",
    "            print(f\"\\t{s}\")\n",
    "        print(\"\\n\")\n",
    "        \n",
    "    return None\n",
    "\n",
    "risks_categories = get_risks_and_categories(risks_list)\n",
    "risks_data = identify_risks(risks_categories)\n",
    "display_risks_summary(risks_data)\n"
   ]
  },
  {
   "cell_type": "code",
   "execution_count": null,
   "metadata": {},
   "outputs": [],
   "source": []
  }
 ],
 "metadata": {
  "kernelspec": {
   "display_name": "Python 3 (ipykernel)",
   "language": "python",
   "name": "python3"
  },
  "language_info": {
   "codemirror_mode": {
    "name": "ipython",
    "version": 3
   },
   "file_extension": ".py",
   "mimetype": "text/x-python",
   "name": "python",
   "nbconvert_exporter": "python",
   "pygments_lexer": "ipython3",
   "version": "3.11.11"
  }
 },
 "nbformat": 4,
 "nbformat_minor": 4
}
