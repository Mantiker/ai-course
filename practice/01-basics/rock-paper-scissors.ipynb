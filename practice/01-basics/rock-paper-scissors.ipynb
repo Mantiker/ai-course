{
 "cells": [
  {
   "cell_type": "markdown",
   "id": "30068569-bb06-47ac-bafd-da724d05d8b8",
   "metadata": {},
   "source": [
    "**!!** <span style=\"color:red\">Warning: \"spacy\" lib from cooltest works only up to python3.11</span>"
   ]
  },
  {
   "cell_type": "code",
   "execution_count": 1,
   "id": "50bde553-aa78-41cf-8247-6fc6f67a87d8",
   "metadata": {},
   "outputs": [
    {
     "name": "stdout",
     "output_type": "stream",
     "text": [
      "Collecting git+https://github.com/mehalyna/cooltest.git\n",
      "  Cloning https://github.com/mehalyna/cooltest.git to /tmp/pip-req-build-q8xdq4a9\n",
      "  Running command git clone --filter=blob:none --quiet https://github.com/mehalyna/cooltest.git /tmp/pip-req-build-q8xdq4a9\n",
      "  Resolved https://github.com/mehalyna/cooltest.git to commit 630c96f2d3300782279879d5d13e6c1aaabf3c75\n",
      "  Installing build dependencies ... \u001b[?25ldone\n",
      "\u001b[?25h  Getting requirements to build wheel ... \u001b[?25ldone\n",
      "\u001b[?25h  Installing backend dependencies ... \u001b[?25ldone\n",
      "\u001b[?25h  Preparing metadata (pyproject.toml) ... \u001b[?25ldone\n",
      "\u001b[?25hRequirement already satisfied: numpy>=1.15 in /home/m/Projects/python/ai-course/practice/venv/lib/python3.11/site-packages (from cooltest==26.22) (2.2.5)\n",
      "\n",
      "\u001b[1m[\u001b[0m\u001b[34;49mnotice\u001b[0m\u001b[1;39;49m]\u001b[0m\u001b[39;49m A new release of pip is available: \u001b[0m\u001b[31;49m24.0\u001b[0m\u001b[39;49m -> \u001b[0m\u001b[32;49m25.0.1\u001b[0m\n",
      "\u001b[1m[\u001b[0m\u001b[34;49mnotice\u001b[0m\u001b[1;39;49m]\u001b[0m\u001b[39;49m To update, run: \u001b[0m\u001b[32;49mpip install --upgrade pip\u001b[0m\n",
      "Note: you may need to restart the kernel to use updated packages.\n"
     ]
    }
   ],
   "source": [
    "%pip install git+https://github.com/mehalyna/cooltest.git"
   ]
  },
  {
   "cell_type": "code",
   "execution_count": 2,
   "id": "b2f48992-fa17-47f6-9d0e-2e6b66068d84",
   "metadata": {},
   "outputs": [
    {
     "name": "stdout",
     "output_type": "stream",
     "text": [
      "Pass\n"
     ]
    }
   ],
   "source": [
    "from cooltest.test_cool_2 import *"
   ]
  },
  {
   "cell_type": "code",
   "execution_count": 4,
   "id": "c3a2ccce-b20f-46dc-b5c3-3448bb730d6b",
   "metadata": {},
   "outputs": [
    {
     "name": "stdout",
     "output_type": "stream",
     "text": [
      "Test game Pass\n"
     ]
    }
   ],
   "source": [
    "@test_play_rock_paper_scissors\n",
    "def play_rock_paper_scissors(player_choice, comp_choice):\n",
    "    \"\"\"\n",
    "    Play a round of the Rock-Paper-Scissors game.\n",
    "\n",
    "    Parameters:\n",
    "        player1_choice (str): The choice of Player 1. Should be one of 'rock', 'paper', or 'scissors'.\n",
    "        comp_choice (str): The choice of Computer. Should be one of 'rock', 'paper', or 'scissors'.\n",
    "\n",
    "    Returns:\n",
    "        str: The result of the round. It can be one of the following:\n",
    "             - \"Tie\" if both players have the same choice.\n",
    "             - \"Player 1 wins\" if Player 1's choice wins the round.\n",
    "             - \"Comp wins\" if Computer's choice wins the round.\n",
    "\n",
    "    Example:\n",
    "        >>> play_rock_paper_scissors('rock', 'paper')\n",
    "        'Comp wins'\n",
    "        >>> play_rock_paper_scissors('scissors', 'scissors')\n",
    "        'Tie'\n",
    "    \"\"\"\n",
    "    valid_choices = ['rock', 'paper', 'scissors']\n",
    "    \n",
    "    # Check if it's a tie\n",
    "    if player_choice == comp_choice:\n",
    "        return \"Tie\"\n",
    "\n",
    "\n",
    "    # Determine the winner based on the rules\n",
    "    player_choice_index = valid_choices.index(player_choice)\n",
    "    comp_choice_index = valid_choices.index(comp_choice)\n",
    "    if player_choice_index > comp_choice_index or (player_choice_index == 0 and comp_choice_index == 2):\n",
    "        return \"Player 1 wins\"\n",
    "    else:\n",
    "        return \"Comp wins\"\n",
    "\n"
   ]
  },
  {
   "cell_type": "code",
   "execution_count": null,
   "id": "9b3109b1-2b57-431b-80d1-2252e52e6e16",
   "metadata": {},
   "outputs": [],
   "source": []
  }
 ],
 "metadata": {
  "kernelspec": {
   "display_name": "Python 3 (ipykernel)",
   "language": "python",
   "name": "python3"
  },
  "language_info": {
   "codemirror_mode": {
    "name": "ipython",
    "version": 3
   },
   "file_extension": ".py",
   "mimetype": "text/x-python",
   "name": "python",
   "nbconvert_exporter": "python",
   "pygments_lexer": "ipython3",
   "version": "3.11.11"
  }
 },
 "nbformat": 4,
 "nbformat_minor": 5
}
