{
 "cells": [
  {
   "cell_type": "markdown",
   "id": "30068569-bb06-47ac-bafd-da724d05d8b8",
   "metadata": {},
   "source": [
    "**!!** <span style=\"color:red\">Warning: \"spacy\" lib from cooltest works only up to python3.11</span>"
   ]
  },
  {
   "cell_type": "markdown",
   "id": "eeafb91f",
   "metadata": {},
   "source": [
    "## Task.1 Rock-Paper-Scissors\n",
    "The Rock-Paper-Scissors game is a simple hand game played between two players. It is often used as a decision-making tool or a playful way to make choices between two individuals. The game involves three hand shapes, each representing one of the three options: \"rock,\" \"paper,\" or \"scissors.\" The rules are straightforward:\n",
    "\n",
    "1. Rock crushes Scissors: Rock wins against Scissors.\n",
    "2. Paper covers Rock: Paper wins against Rock.\n",
    "3. Scissors cut Paper: Scissors win against Paper.\n",
    "\n",
    "The game follows a cyclic pattern, where each option beats one and loses to another. If both players choose the same option, the game results in a tie or draw.\n",
    "\n",
    "The Rock-Paper-Scissors game is typically played in a series of rounds. Each player makes their choice by forming one of the hand shapes (rock, paper, or scissors) simultaneously. Then, the choices are revealed, and the winner of the round is determined based on the rules above. The game continues until a predetermined number of rounds are completed, and the player with the most wins is declared the overall winner."
   ]
  },
  {
   "cell_type": "code",
   "execution_count": 1,
   "id": "50bde553-aa78-41cf-8247-6fc6f67a87d8",
   "metadata": {},
   "outputs": [
    {
     "name": "stdout",
     "output_type": "stream",
     "text": [
      "Collecting git+https://github.com/mehalyna/cooltest.git\n",
      "  Cloning https://github.com/mehalyna/cooltest.git to /tmp/pip-req-build-q8xdq4a9\n",
      "  Running command git clone --filter=blob:none --quiet https://github.com/mehalyna/cooltest.git /tmp/pip-req-build-q8xdq4a9\n",
      "  Resolved https://github.com/mehalyna/cooltest.git to commit 630c96f2d3300782279879d5d13e6c1aaabf3c75\n",
      "  Installing build dependencies ... \u001b[?25ldone\n",
      "\u001b[?25h  Getting requirements to build wheel ... \u001b[?25ldone\n",
      "\u001b[?25h  Installing backend dependencies ... \u001b[?25ldone\n",
      "\u001b[?25h  Preparing metadata (pyproject.toml) ... \u001b[?25ldone\n",
      "\u001b[?25hRequirement already satisfied: numpy>=1.15 in /home/m/Projects/python/ai-course/practice/venv/lib/python3.11/site-packages (from cooltest==26.22) (2.2.5)\n",
      "\n",
      "\u001b[1m[\u001b[0m\u001b[34;49mnotice\u001b[0m\u001b[1;39;49m]\u001b[0m\u001b[39;49m A new release of pip is available: \u001b[0m\u001b[31;49m24.0\u001b[0m\u001b[39;49m -> \u001b[0m\u001b[32;49m25.0.1\u001b[0m\n",
      "\u001b[1m[\u001b[0m\u001b[34;49mnotice\u001b[0m\u001b[1;39;49m]\u001b[0m\u001b[39;49m To update, run: \u001b[0m\u001b[32;49mpip install --upgrade pip\u001b[0m\n",
      "Note: you may need to restart the kernel to use updated packages.\n"
     ]
    }
   ],
   "source": [
    "%pip install git+https://github.com/mehalyna/cooltest.git"
   ]
  },
  {
   "cell_type": "code",
   "execution_count": 2,
   "id": "b2f48992-fa17-47f6-9d0e-2e6b66068d84",
   "metadata": {},
   "outputs": [
    {
     "name": "stdout",
     "output_type": "stream",
     "text": [
      "Pass\n"
     ]
    }
   ],
   "source": [
    "from cooltest.test_cool_2 import *"
   ]
  },
  {
   "cell_type": "markdown",
   "id": "ffa03a99",
   "metadata": {},
   "source": [
    "Task is to write the body of function play_rock_paper_scissors() in such a way that it would be used to play the game with the computer.\n",
    "\n",
    "In this version of the function, the player's choice (from the user) and computer's choice (randomly generated) will be taken as input parameter. The winner is determined based on the **Rock-Paper-Scissors** game rules, and the result of the round is displayed. The user can play the game against the computer by providing their choice as input."
   ]
  },
  {
   "cell_type": "code",
   "execution_count": 4,
   "id": "c3a2ccce-b20f-46dc-b5c3-3448bb730d6b",
   "metadata": {},
   "outputs": [
    {
     "name": "stdout",
     "output_type": "stream",
     "text": [
      "Test game Pass\n"
     ]
    }
   ],
   "source": [
    "@test_play_rock_paper_scissors\n",
    "def play_rock_paper_scissors(player_choice, comp_choice):\n",
    "    \"\"\"\n",
    "    Play a round of the Rock-Paper-Scissors game.\n",
    "\n",
    "    Parameters:\n",
    "        player1_choice (str): The choice of Player 1. Should be one of 'rock', 'paper', or 'scissors'.\n",
    "        comp_choice (str): The choice of Computer. Should be one of 'rock', 'paper', or 'scissors'.\n",
    "\n",
    "    Returns:\n",
    "        str: The result of the round. It can be one of the following:\n",
    "             - \"Tie\" if both players have the same choice.\n",
    "             - \"Player 1 wins\" if Player 1's choice wins the round.\n",
    "             - \"Comp wins\" if Computer's choice wins the round.\n",
    "\n",
    "    Example:\n",
    "        >>> play_rock_paper_scissors('rock', 'paper')\n",
    "        'Comp wins'\n",
    "        >>> play_rock_paper_scissors('scissors', 'scissors')\n",
    "        'Tie'\n",
    "    \"\"\"\n",
    "    valid_choices = ['rock', 'paper', 'scissors']\n",
    "    \n",
    "    # Check if it's a tie\n",
    "    if player_choice == comp_choice:\n",
    "        return \"Tie\"\n",
    "\n",
    "\n",
    "    # Determine the winner based on the rules\n",
    "    player_choice_index = valid_choices.index(player_choice)\n",
    "    comp_choice_index = valid_choices.index(comp_choice)\n",
    "    if player_choice_index > comp_choice_index or (player_choice_index == 0 and comp_choice_index == 2):\n",
    "        return \"Player 1 wins\"\n",
    "    else:\n",
    "        return \"Comp wins\"\n",
    "\n"
   ]
  },
  {
   "cell_type": "markdown",
   "id": "a174f13c",
   "metadata": {},
   "source": [
    "Next task is to write the body of function `computer_makes_choice` in such a way that it would return the choice of the computer.\n",
    "\n",
    "The computer's choice will be randomly generated using the `random.choice()` function."
   ]
  },
  {
   "cell_type": "code",
   "execution_count": null,
   "id": "9b3109b1-2b57-431b-80d1-2252e52e6e16",
   "metadata": {},
   "outputs": [],
   "source": [
    "import random\n",
    "\n",
    "@ test_computer_makes_choice\n",
    "def computer_makes_choice():\n",
    "    \"\"\"\n",
    "    Generates the choise of the computer in the Rock-Paper-Scissors game.\n",
    "\n",
    "    Parameters:\n",
    "        none.\n",
    "\n",
    "    Returns:\n",
    "        str: The choice of the player. Should be one of 'rock', 'paper', or 'scissors'.\n",
    "\n",
    "    Example:\n",
    "        >>> computer_makes_choice()\n",
    "        'rock'\n",
    "        >>> computer_makes_choice()\n",
    "        'scissors'\n",
    "    \"\"\"\n",
    "    valid_choices = ['rock', 'paper', 'scissors']\n",
    "\n",
    "    # Generate computer's choice randomly\n",
    "    return random.choice(valid_choices)"
   ]
  },
  {
   "cell_type": "markdown",
   "id": "dc79e532",
   "metadata": {},
   "source": [
    "Write the body of function `play_multiple_rounds(num_rounds)` that will directly call the `play_rock_paper_scissors()` function inside the loop for each round. The game proceeds as before, with the user inputting their choice, and the result of each round is displayed accordingly."
   ]
  },
  {
   "cell_type": "code",
   "execution_count": null,
   "id": "552a6ef9",
   "metadata": {},
   "outputs": [],
   "source": [
    "def play_multiple_rounds(num_rounds):\n",
    "    \"\"\"\n",
    "    Play multiple rounds of the Rock-Paper-Scissors game against the computer.\n",
    "\n",
    "    Parameters:\n",
    "        num_rounds (int): The number of rounds to play.\n",
    "\n",
    "    Returns:\n",
    "        None\n",
    "\n",
    "    Example:\n",
    "        >>> play_multiple_rounds(3)\n",
    "        Enter your choice (rock/paper/scissors): rock\n",
    "        Round 1: You chose rock. Computer chose paper. Comp wins\n",
    "\n",
    "        Enter your choice (rock/paper/scissors): paper\n",
    "        Round 2: You chose paper. Computer chose paper. Tie\n",
    "\n",
    "        Enter your choice (rock/paper/scissors): scissors\n",
    "        Round 3: You chose scissors. Computer chose rock. Comp wins\n",
    "    \"\"\"\n",
    "    valid_choices = ['rock', 'paper', 'scissors']\n",
    "\n",
    "    for i in range(num_rounds - 1):\n",
    "        pc = int(input(\"Enter your choice (rock/paper/scissors): \"))\n",
    "        cc = computer_makes_choice()\n",
    "        res = play_rock_paper_scissors(pc, cc)\n",
    "        print(f\"Round {i + 1}: You chose {pc}. Computer chose {cc}. {res}\")\n",
    "    \n",
    "    return None\n"
   ]
  },
  {
   "cell_type": "code",
   "execution_count": null,
   "id": "0eb894b1",
   "metadata": {},
   "outputs": [],
   "source": [
    "\n",
    "# Example usage:\n",
    "num_rounds = int(input(\"Enter the number of rounds to play: \"))\n",
    "play_multiple_rounds(num_rounds)\n"
   ]
  }
 ],
 "metadata": {
  "kernelspec": {
   "display_name": "Python 3 (ipykernel)",
   "language": "python",
   "name": "python3"
  },
  "language_info": {
   "codemirror_mode": {
    "name": "ipython",
    "version": 3
   },
   "file_extension": ".py",
   "mimetype": "text/x-python",
   "name": "python",
   "nbconvert_exporter": "python",
   "pygments_lexer": "ipython3",
   "version": "3.11.11"
  }
 },
 "nbformat": 4,
 "nbformat_minor": 5
}
