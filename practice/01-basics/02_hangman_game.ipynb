{
 "cells": [
  {
   "cell_type": "markdown",
   "id": "a1111c91-5781-4731-aea1-8064e5744dca",
   "metadata": {},
   "source": [
    "## **Task 2. Hangman game**\n",
    "\n",
    "Create a text-based version of the Hangman game. The computer selects a random word, and the player guesses letters until they solve the word or run out of attempts.\n",
    "\n",
    "*Problem Definition:*\n",
    "\n",
    "* You are tasked with implementing a simple Hangman game in Python.\n",
    "* The game should select a random word from a predefined list of words.\n",
    "* The player must guess letters in the word one at a time.\n",
    "* If the player guesses a correct letter, it is revealed in the word.\n",
    "* If the player guesses an incorrect letter, a part of the hangman is drawn.\n",
    "* The player wins if they guess all the letters correctly before the hangman is fully drawn.\n",
    "* The player loses if the hangman is fully drawn before they guess the word.\n",
    "* The game should provide feedback to the player after each guess.\n",
    "* The game continues until the player wins or loses.\n",
    "\n",
    "Your Hangman game will consist of three functions: `select_random_word`, `display_word`, and `hangman_game`. The `hangman_game` function runs the game loop, while the other functions are used to select a random word and display the word with guessed letters filled in.\n",
    "\n",
    "Certainly! Here's a description of each of the functions in the Hangman game:\n",
    "\n",
    "1. `select_random_word` Function:\n",
    "\n",
    "   This function is responsible for selecting a random word from a predefined list of words. It is used at the beginning of the game to choose the word that the player needs to guess.\n",
    "\n",
    "   - Parameters: None\n",
    "   - Returns: A randomly selected word (string).\n",
    "\n",
    "2. `display_word` Function:\n",
    "\n",
    "   This function takes two arguments: the target word to guess and a list of guessed letters. It generates a string where guessed letters are filled in, and unguessed letters are represented by underscores.\n",
    "\n",
    "   - Parameters:\n",
    "     - `word(str)`: The target word to guess.\n",
    "     - `guessed_letters(list)`: List of letters guessed by the player.\n",
    "\n",
    "   - Returns: The word with guessed letters filled in (string).\n",
    "\n",
    "\n",
    "3. `hangman_game` Function:\n",
    "\n",
    "   This function executes the Hangman game. It handles the game's main logic, including taking user input for letter guesses, checking if the guessed letters are correct, and displaying feedback to the player. The game continues until the player either wins by guessing the word correctly or loses by running out of attempts.\n",
    "\n",
    "   - Parameters: None\n",
    "\n",
    "Each function serves a specific role in the Hangman game, making the code modular and easier to understand. The `hangman_game` function ties everything together and provides the overall game experience for the player, including welcoming them, managing guesses, and announcing the game's outcome."
   ]
  },
  {
   "cell_type": "code",
   "execution_count": 1,
   "id": "c7acce41",
   "metadata": {},
   "outputs": [
    {
     "name": "stdout",
     "output_type": "stream",
     "text": [
      "Collecting git+https://github.com/mehalyna/cooltest.git\n",
      "  Cloning https://github.com/mehalyna/cooltest.git to /tmp/pip-req-build-75rv_vv7\n",
      "  Running command git clone --filter=blob:none --quiet https://github.com/mehalyna/cooltest.git /tmp/pip-req-build-75rv_vv7\n",
      "  Resolved https://github.com/mehalyna/cooltest.git to commit 630c96f2d3300782279879d5d13e6c1aaabf3c75\n",
      "  Installing build dependencies ... \u001b[?25ldone\n",
      "\u001b[?25h  Getting requirements to build wheel ... \u001b[?25ldone\n",
      "\u001b[?25h  Installing backend dependencies ... \u001b[?25ldone\n",
      "\u001b[?25h  Preparing metadata (pyproject.toml) ... \u001b[?25ldone\n",
      "\u001b[?25hRequirement already satisfied: numpy>=1.15 in /home/m/Projects/python/ai-course/practice/venv/lib/python3.11/site-packages (from cooltest==26.22) (2.2.5)\n",
      "\n",
      "\u001b[1m[\u001b[0m\u001b[34;49mnotice\u001b[0m\u001b[1;39;49m]\u001b[0m\u001b[39;49m A new release of pip is available: \u001b[0m\u001b[31;49m24.0\u001b[0m\u001b[39;49m -> \u001b[0m\u001b[32;49m25.0.1\u001b[0m\n",
      "\u001b[1m[\u001b[0m\u001b[34;49mnotice\u001b[0m\u001b[1;39;49m]\u001b[0m\u001b[39;49m To update, run: \u001b[0m\u001b[32;49mpip install --upgrade pip\u001b[0m\n",
      "Note: you may need to restart the kernel to use updated packages.\n",
      "Pass\n"
     ]
    }
   ],
   "source": [
    "%pip install git+https://github.com/mehalyna/cooltest.git\n",
    "\n",
    "from cooltest.test_cool_2 import *"
   ]
  },
  {
   "cell_type": "code",
   "execution_count": 2,
   "id": "60051be9-616f-4588-9514-4fc416c07f83",
   "metadata": {},
   "outputs": [
    {
     "name": "stdout",
     "output_type": "stream",
     "text": [
      "Test Word choice pass\n",
      "Test Display Word pass\n",
      "Welcome to Hangman!\n",
      "Try to guess the word. You can make up to 6 wrong guesses.\n"
     ]
    },
    {
     "name": "stdin",
     "output_type": "stream",
     "text": [
      "Input your letter:  a\n"
     ]
    },
    {
     "name": "stdout",
     "output_type": "stream",
     "text": [
      "You guessed letter 'a'\n",
      "Current state of word: _a____\n",
      "Attempts failed: 0\n"
     ]
    },
    {
     "name": "stdin",
     "output_type": "stream",
     "text": [
      "Input your letter:  j\n"
     ]
    },
    {
     "name": "stdout",
     "output_type": "stream",
     "text": [
      "You guessed letter 'j'\n",
      "Current state of word: ja____\n",
      "Attempts failed: 0\n"
     ]
    },
    {
     "name": "stdin",
     "output_type": "stream",
     "text": [
      "Input your letter:  w\n"
     ]
    },
    {
     "name": "stdout",
     "output_type": "stream",
     "text": [
      "You didn't guess letter 'w'\n",
      "Current state of word: ja____\n",
      "Attempts failed: 1\n"
     ]
    },
    {
     "name": "stdin",
     "output_type": "stream",
     "text": [
      "Input your letter:  c\n"
     ]
    },
    {
     "name": "stdout",
     "output_type": "stream",
     "text": [
      "You guessed letter 'c'\n",
      "Current state of word: jac___\n",
      "Attempts failed: 1\n"
     ]
    },
    {
     "name": "stdin",
     "output_type": "stream",
     "text": [
      "Input your letter:  k\n"
     ]
    },
    {
     "name": "stdout",
     "output_type": "stream",
     "text": [
      "You guessed letter 'k'\n",
      "Current state of word: jack__\n",
      "Attempts failed: 1\n"
     ]
    },
    {
     "name": "stdin",
     "output_type": "stream",
     "text": [
      "Input your letter:  e\n"
     ]
    },
    {
     "name": "stdout",
     "output_type": "stream",
     "text": [
      "You guessed letter 'e'\n",
      "Current state of word: jacke_\n",
      "Attempts failed: 1\n"
     ]
    },
    {
     "name": "stdin",
     "output_type": "stream",
     "text": [
      "Input your letter:  t\n"
     ]
    },
    {
     "name": "stdout",
     "output_type": "stream",
     "text": [
      "You guessed letter 't'\n",
      "Current state of word: jacket\n",
      "You win\n"
     ]
    },
    {
     "name": "stdout",
     "output_type": "stream",
     "text": [
      "Input your letter:  a\n"
     ]
    },
    {
     "name": "stdout",
     "output_type": "stream",
     "text": [
      "You guessed letter 'a'\n",
      "Current state of word: _a_a_a\n"
     ]
    },
    {
     "name": "stdout",
     "output_type": "stream",
     "text": [
      "Input your letter:  n\n"
     ]
    },
    {
     "name": "stdout",
     "output_type": "stream",
     "text": [
      "You guessed letter 'n'\n",
      "Current state of word: _anana\n"
     ]
    },
    {
     "name": "stdout",
     "output_type": "stream",
     "text": [
      "Input your letter:  s\n"
     ]
    },
    {
     "name": "stdout",
     "output_type": "stream",
     "text": [
      "You didn't guess letter 's'\n",
      "Current state of word: _anana\n"
     ]
    },
    {
     "name": "stdout",
     "output_type": "stream",
     "text": [
      "Input your letter:  b\n"
     ]
    },
    {
     "name": "stdout",
     "output_type": "stream",
     "text": [
      "You guessed letter 'b'\n",
      "Current state of word: banana\n",
      "You win\n"
     ]
    },
    {
     "name": "stdout",
     "output_type": "stream",
     "text": [
      "None a\n"
     ]
    },
    {
     "name": "stdout",
     "output_type": "stream",
     "text": [
      "You guessed letter 'a'\n",
      "Current state of word is: _a_______\n",
      "You win\n",
      "Attempt 2. Input your letter: \n"
     ]
    },
    {
     "name": "stdout",
     "output_type": "stream",
     "text": [
      "None n\n"
     ]
    },
    {
     "name": "stdout",
     "output_type": "stream",
     "text": [
      "You didn't guess letter 'n'\n",
      "Current state of word is: _a_______\n",
      "You win\n",
      "Attempt 3. Input your letter: \n"
     ]
    },
    {
     "name": "stdout",
     "output_type": "stream",
     "text": [
      "None k\n"
     ]
    },
    {
     "name": "stdout",
     "output_type": "stream",
     "text": [
      "You didn't guess letter 'k'\n",
      "Current state of word is: _a_______\n",
      "You win\n",
      "Attempt 4. Input your letter: \n"
     ]
    },
    {
     "name": "stdout",
     "output_type": "stream",
     "text": [
      "None r\n"
     ]
    },
    {
     "name": "stdout",
     "output_type": "stream",
     "text": [
      "You guessed letter 'r'\n",
      "Current state of word is: _a___r__r\n",
      "You win\n",
      "Attempt 5. Input your letter: \n"
     ]
    },
    {
     "name": "stdout",
     "output_type": "stream",
     "text": [
      "None g\n"
     ]
    },
    {
     "name": "stdout",
     "output_type": "stream",
     "text": [
      "You guessed letter 'g'\n",
      "Current state of word is: _a___rg_r\n",
      "You win\n",
      "Attempt 6. Input your letter: \n"
     ]
    },
    {
     "name": "stdout",
     "output_type": "stream",
     "text": [
      "None h\n"
     ]
    },
    {
     "name": "stdout",
     "output_type": "stream",
     "text": [
      "You guessed letter 'h'\n",
      "Current state of word is: ha___rg_r\n",
      "You win\n",
      "You loose\n"
     ]
    }
   ],
   "source": [
    "import random\n",
    "\n",
    "@test_select_random_word\n",
    "def select_random_word():\n",
    "    \"\"\"\n",
    "    Selects a random word from a predefined list of words.\n",
    "\n",
    "    Returns:\n",
    "    str: A randomly selected word.\n",
    "    \"\"\"\n",
    "    word_list = [\"apple\", \"banana\", \"cherry\", \"dog\", \"elephant\", \"flower\", \"giraffe\", \"hamburger\", \"icecream\", \"jacket\"]\n",
    "    return random.choice(word_list)\n",
    "\n",
    "@test_display_word\n",
    "def display_word(word, guessed_letters):\n",
    "    \"\"\"\n",
    "    Displays the word with guessed letters filled in and unguessed letters as underscores.\n",
    "\n",
    "    Args:\n",
    "    word (str): The target word to guess.\n",
    "    guessed_letters (list): List of letters guessed by the player.\n",
    "\n",
    "    Returns:\n",
    "    str: The word with guessed letters filled in.\n",
    "    \"\"\"\n",
    "    res = [ x if x in guessed_letters else \"_\" for x in word ] \n",
    "\n",
    "    return \"\".join(res)\n",
    "\n",
    "def hangman_game():\n",
    "    \"\"\"\n",
    "    Executes the Hangman game.\n",
    "\n",
    "    The player must guess letters in a randomly selected word until they either win or lose.\n",
    "    \"\"\"\n",
    "    word_to_guess = select_random_word()\n",
    "    guessed_letters = []\n",
    "    max_attempts = 6  # Maximum attempts before losing\n",
    "    current_attmpt = 0\n",
    "\n",
    "    print(\"Welcome to Hangman!\")\n",
    "    print(\"Try to guess the word. You can make up to 6 wrong guesses.\")\n",
    "\n",
    "    while current_attmpt < max_attempts:\n",
    "        input_letter = input(\"Input your letter: \")\n",
    "        if input_letter in word_to_guess:\n",
    "            guessed_letters.append(input_letter)\n",
    "            print(f\"You guessed letter '{input_letter}'\")\n",
    "        else:\n",
    "            current_attmpt += 1\n",
    "            print(f\"You didn't guess letter '{input_letter}'\")\n",
    "\n",
    "        res = display_word(word_to_guess, guessed_letters)\n",
    "        print(f\"Current state of word: {res}\")\n",
    "\n",
    "        if \"_\" not in res:\n",
    "            print(\"You win\")\n",
    "            return None\n",
    "        \n",
    "        print(f\"Attempts failed: {current_attmpt}\")\n",
    "\n",
    "\n",
    "    print(\"You loose\")\n",
    "    return None\n",
    "\n",
    "\n",
    "\n",
    "# To play the game, call the hangman_game() function:\n",
    "\n",
    "hangman_game()\n"
   ]
  },
  {
   "cell_type": "code",
   "execution_count": 3,
   "id": "8940ba17",
   "metadata": {},
   "outputs": [
    {
     "name": "stdout",
     "output_type": "stream",
     "text": [
      "Welcome to Hangman!\n",
      "Try to guess the word. You can make up to 6 wrong guesses.\n"
     ]
    },
    {
     "name": "stdin",
     "output_type": "stream",
     "text": [
      "Input your letter:  a\n"
     ]
    },
    {
     "name": "stdout",
     "output_type": "stream",
     "text": [
      "You guessed letter 'a'\n",
      "Current state of word: _a_______\n",
      "Attempts failed: 0\n"
     ]
    },
    {
     "name": "stdin",
     "output_type": "stream",
     "text": [
      "Input your letter:  j\n"
     ]
    },
    {
     "name": "stdout",
     "output_type": "stream",
     "text": [
      "You didn't guess letter 'j'\n",
      "Current state of word: _a_______\n",
      "Attempts failed: 1\n"
     ]
    },
    {
     "name": "stdin",
     "output_type": "stream",
     "text": [
      "Input your letter:  h\n"
     ]
    },
    {
     "name": "stdout",
     "output_type": "stream",
     "text": [
      "You guessed letter 'h'\n",
      "Current state of word: ha_______\n",
      "Attempts failed: 1\n"
     ]
    },
    {
     "name": "stdin",
     "output_type": "stream",
     "text": [
      "Input your letter:  r\n"
     ]
    },
    {
     "name": "stdout",
     "output_type": "stream",
     "text": [
      "You guessed letter 'r'\n",
      "Current state of word: ha___r__r\n",
      "Attempts failed: 1\n"
     ]
    },
    {
     "name": "stdin",
     "output_type": "stream",
     "text": [
      "Input your letter:  t\n"
     ]
    },
    {
     "name": "stdout",
     "output_type": "stream",
     "text": [
      "You didn't guess letter 't'\n",
      "Current state of word: ha___r__r\n",
      "Attempts failed: 2\n"
     ]
    },
    {
     "name": "stdin",
     "output_type": "stream",
     "text": [
      "Input your letter:  t\n"
     ]
    },
    {
     "name": "stdout",
     "output_type": "stream",
     "text": [
      "You didn't guess letter 't'\n",
      "Current state of word: ha___r__r\n",
      "Attempts failed: 3\n"
     ]
    },
    {
     "name": "stdin",
     "output_type": "stream",
     "text": [
      "Input your letter:  t\n"
     ]
    },
    {
     "name": "stdout",
     "output_type": "stream",
     "text": [
      "You didn't guess letter 't'\n",
      "Current state of word: ha___r__r\n",
      "Attempts failed: 4\n"
     ]
    },
    {
     "name": "stdin",
     "output_type": "stream",
     "text": [
      "Input your letter:  t\n"
     ]
    },
    {
     "name": "stdout",
     "output_type": "stream",
     "text": [
      "You didn't guess letter 't'\n",
      "Current state of word: ha___r__r\n",
      "Attempts failed: 5\n"
     ]
    },
    {
     "name": "stdin",
     "output_type": "stream",
     "text": [
      "Input your letter:  t\n"
     ]
    },
    {
     "name": "stdout",
     "output_type": "stream",
     "text": [
      "You didn't guess letter 't'\n",
      "Current state of word: ha___r__r\n",
      "Attempts failed: 6\n",
      "You loose\n"
     ]
    }
   ],
   "source": [
    "hangman_game()"
   ]
  },
  {
   "cell_type": "code",
   "execution_count": null,
   "id": "1ef77e60-b54a-472f-b43f-9295ce08fccd",
   "metadata": {},
   "outputs": [],
   "source": []
  }
 ],
 "metadata": {
  "kernelspec": {
   "display_name": "Python 3 (ipykernel)",
   "language": "python",
   "name": "python3"
  },
  "language_info": {
   "codemirror_mode": {
    "name": "ipython",
    "version": 3
   },
   "file_extension": ".py",
   "mimetype": "text/x-python",
   "name": "python",
   "nbconvert_exporter": "python",
   "pygments_lexer": "ipython3",
   "version": "3.11.11"
  }
 },
 "nbformat": 4,
 "nbformat_minor": 5
}
